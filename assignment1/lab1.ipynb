{
 "cells": [
  {
   "cell_type": "code",
   "execution_count": 25,
   "metadata": {},
   "outputs": [],
   "source": [
    "import numpy as np\n",
    "import matplotlib.pyplot as plt\n",
    "from collections import deque\n",
    "import heapq\n",
    "\n",
    "# Node Class represents a state in the search tree.\n",
    "class Node:\n",
    "    def __init__(self, state, parent=None, action=None, path_cost=0):\n",
    "        self.state = state  # The current position of the agent in the grid.\n",
    "        self.parent = parent  # The node in the search tree that generated this node.\n",
    "        self.action = action  # The action taken to get to this state.\n",
    "        self.path_cost = path_cost  # Cost from the start node to this node.\n",
    "\n",
    "    # Comparison operator for priority queue.\n",
    "    def __lt__(self, other):\n",
    "        return self.path_cost < other.path_cost"
   ]
  },
  {
   "cell_type": "markdown",
   "metadata": {},
   "source": [
    "For a star search we need to define a priority queue and heuristic. here we have taken the manhattan distance as the heuristic\n"
   ]
  },
  {
   "cell_type": "code",
   "execution_count": 26,
   "metadata": {},
   "outputs": [],
   "source": [
    "class PriorityQueue:\n",
    "    def __init__(self):\n",
    "        self.elements = []\n",
    "\n",
    "    def empty(self):\n",
    "        return len(self.elements) == 0\n",
    "\n",
    "    def put(self, item, priority):\n",
    "        heapq.heappush(self.elements, (priority, item))\n",
    "\n",
    "    def get(self):\n",
    "        return heapq.heappop(self.elements)[1]\n",
    "def heuristic(a, b):\n",
    "    \"\"\"\n",
    "    Calculate the Manhattan distance between two points a and b.\n",
    "\n",
    "    Parameters:\n",
    "    - a: Tuple representing the x and y coordinates of point a (e.g., (x1, y1))\n",
    "    - b: Tuple representing the x and y coordinates of point b (e.g., (x2, y2))\n",
    "\n",
    "    Returns:\n",
    "    - The Manhattan distance between points a and b.\n",
    "    \"\"\"\n",
    "    (x1, y1) = a\n",
    "    (x2, y2) = b\n",
    "    return abs(x1 - x2) + abs(y1 - y2)"
   ]
  },
  {
   "cell_type": "markdown",
   "metadata": {},
   "source": [
    "Implement a class Environment that generates a 10x10 grid. Dynamically\n",
    "place obstacles, a start position, and an end position within the grid."
   ]
  },
  {
   "cell_type": "code",
   "execution_count": 27,
   "metadata": {},
   "outputs": [],
   "source": [
    "# Environment Class represents the grid and handles state transitions.\n",
    "class Environment:\n",
    "    def __init__(self, grid, start, goal):\n",
    "        self.grid = grid  # The grid layout where 1 represents an obstacle and 0 is free space.\n",
    "        self.initial = start  # Starting position of the agent.\n",
    "        self.goal = goal  # Goal position the agent aims to reach.\n",
    "\n",
    "    # Returns the possible actions from a given state.\n",
    "    def actions(self, state):\n",
    "        possible_actions = ['UP', 'DOWN', 'LEFT', 'RIGHT']\n",
    "        x, y = state\n",
    "\n",
    "        # Remove impossible actions based on grid boundaries and obstacles.\n",
    "        if x == 0 or self.grid[x - 1][y] == 1:\n",
    "            possible_actions.remove('UP')\n",
    "        if x == len(self.grid) - 1 or self.grid[x + 1][y] == 1:\n",
    "            possible_actions.remove('DOWN')\n",
    "        if y == 0 or self.grid[x][y - 1] == 1:\n",
    "            possible_actions.remove('LEFT')\n",
    "        if y == len(self.grid[0]) - 1 or self.grid[x][y + 1] == 1:\n",
    "            possible_actions.remove('RIGHT')\n",
    "\n",
    "        return possible_actions\n",
    "\n",
    "    # Returns the state resulting from taking a given action at a given state.\n",
    "    def result(self, state, action):\n",
    "        x, y = state\n",
    "        if action == 'UP':\n",
    "            return (x - 1, y)\n",
    "        if action == 'DOWN':\n",
    "            return (x + 1, y)\n",
    "        if action == 'LEFT':\n",
    "            return (x, y - 1)\n",
    "        if action == 'RIGHT':\n",
    "            return (x, y + 1)\n",
    "\n",
    "    # Checks if the goal has been reached.\n",
    "    def is_goal(self, state):\n",
    "        return state == self.goal"
   ]
  },
  {
   "cell_type": "markdown",
   "metadata": {},
   "source": [
    "1. Robot\n",
    "• Implement a class Agent with movement capabilities and tracking of its\n",
    "current position. Include methods to manage the robot's energy levels and\n",
    "battery status, incorporating task optimization and safety for efficient and safe\n",
    "navigation.\n",
    "• Battery Management: The robot starts with a battery level of 100%. For each\n",
    "move from one block to another, the battery level decreases by 10%. If the\n",
    "battery level reaches 0%, the robot must recharge to 100% before continuing.\n",
    "\n",
    "2. Simulation\n",
    "• Simulate the robot's movement through the 10x10 grid with randomly placed\n",
    "obstacles, accounting for energy consumption and managing energy levels to\n",
    "complete tasks.\n",
    "3. Pathfinding Algorithms\n",
    "• Students are required to implement two pathfinding algorithms: Uniform Cost\n",
    "Search (UCS) and A* (A Star). Evaluate these algorithms based on the number\n",
    "of times the robot needs to recharge its battery while traversing the path to the\n",
    "goal. This will determine the best algorithm for this environment."
   ]
  },
  {
   "cell_type": "code",
   "execution_count": 28,
   "metadata": {},
   "outputs": [],
   "source": [
    "# Agent Class uses BFS to find a path from start to goal.\n",
    "class Agent:\n",
    "    def __init__(self, env):\n",
    "        self.env = env  # The environment in which the agent operates.\n",
    "\n",
    "    # Performs BFS search to find a path from the initial state to the goal.\n",
    "    def uniform_cost_search(self):\n",
    "        frontier = PriorityQueue()  # Priority queue for UCS.\n",
    "        frontier.put(Node(self.env.initial, path_cost=0), 0)\n",
    "        came_from = {self.env.initial: None}\n",
    "        cost_so_far = {self.env.initial: 0}\n",
    "\n",
    "        while not frontier.empty():\n",
    "            current_node = frontier.get()\n",
    "\n",
    "            if self.env.is_goal(current_node.state):\n",
    "                return self.reconstruct_path(came_from, current_node.state)\n",
    "\n",
    "            for action in self.env.actions(current_node.state):\n",
    "                new_state = self.env.result(current_node.state, action)\n",
    "                new_cost = cost_so_far[current_node.state] + 1  # Assuming uniform cost for simplicity; adjust if varying costs.\n",
    "                if new_state not in cost_so_far or new_cost < cost_so_far[new_state]:\n",
    "                    cost_so_far[new_state] = new_cost\n",
    "                    priority = new_cost\n",
    "                    frontier.put(Node(new_state, current_node, action, new_cost), priority)\n",
    "                    came_from[new_state] = current_node.state\n",
    "\n",
    "        return []\n",
    "    def a_star_search(self):\n",
    "        # The start node is created with a path cost of 0.\n",
    "        start_node = Node(self.env.initial, path_cost=0)\n",
    "        frontier = PriorityQueue()\n",
    "        frontier.put(start_node, 0)  # Priority is f-cost, initially the heuristic cost from start to goal\n",
    "        came_from = {self.env.initial: None}  # Tracks the best path to a node\n",
    "        cost_so_far = {self.env.initial: 0}  # Tracks the g-cost (cost so far to reach a node)\n",
    "\n",
    "        while not frontier.empty():\n",
    "            current_node = frontier.get()\n",
    "\n",
    "            if self.env.is_goal(current_node.state):\n",
    "                return self.reconstruct_path(came_from, current_node.state)\n",
    "\n",
    "            for action in self.env.actions(current_node.state):\n",
    "                new_state = self.env.result(current_node.state, action)\n",
    "                new_cost = cost_so_far[current_node.state] + 1  # Assuming uniform cost for simplicity\n",
    "                if new_state not in cost_so_far or new_cost < cost_so_far[new_state]:\n",
    "                    cost_so_far[new_state] = new_cost\n",
    "                    priority = new_cost + heuristic(new_state, self.env.goal)  # f-cost = g-cost + h-cost\n",
    "                    frontier.put(Node(new_state, current_node, action, new_cost), priority)\n",
    "                    came_from[new_state] = current_node.state\n",
    "\n",
    "        return []\n",
    "\n",
    "    # Reconstructs the path from start to goal by following the came_from links.\n",
    "    def reconstruct_path(self, came_from, current):\n",
    "        path = []\n",
    "        while current in came_from:\n",
    "            path.append(current)\n",
    "            current = came_from[current]\n",
    "        path.append(self.env.initial)  # Start is not included in the came_from map.\n",
    "        path.reverse()  # Reverse to get the path from start to goal.\n",
    "        return path\n"
   ]
  },
  {
   "cell_type": "markdown",
   "metadata": {},
   "source": [
    "For visualization\n"
   ]
  },
  {
   "cell_type": "code",
   "execution_count": 29,
   "metadata": {},
   "outputs": [],
   "source": [
    "# Visualization Function plots the grid and the found path.\n",
    "def visualize_grid_and_path(grid, path):\n",
    "    grid_array = np.array(grid)  # Convert grid to numpy array for easy plotting.\n",
    "    fig, ax = plt.subplots()\n",
    "    ax.imshow(grid_array, cmap='Greys', alpha=0.3)  # Grid background.\n",
    "    start = path[0]\n",
    "    goal = path[-1]\n",
    "    ax.plot(start[1], start[0], 'bs', markersize=10)  # Start position in blue.\n",
    "    ax.plot(goal[1], goal[0], 'gs', markersize=10)  # Goal position in green.\n",
    "    xs, ys = zip(*path)  # Extract X and Y coordinates of the path.\n",
    "    ax.plot(ys, xs, 'r-', linewidth=2)  # Plot the path in red.\n",
    "    ax.set_xticks(np.arange(-.5, len(grid[0]), 1), minor=True)\n",
    "    ax.set_yticks(np.arange(-.5, len(grid), 1), minor=True)\n",
    "    ax.grid(which=\"minor\", color=\"b\", linestyle='-', linewidth=1)\n",
    "    ax.tick_params(which=\"minor\", size=0)\n",
    "    ax.tick_params(which=\"major\", bottom=False, left=False, labelbottom=False, labelleft=False)\n",
    "    plt.show()"
   ]
  },
  {
   "cell_type": "markdown",
   "metadata": {},
   "source": [
    "driver code. \n",
    "\n",
    "<h3>output serial</h3>\n",
    "<hr>\n",
    "1st --> UFS<br>\n",
    "2nd --> A Star "
   ]
  },
  {
   "cell_type": "code",
   "execution_count": 30,
   "metadata": {},
   "outputs": [
    {
     "name": "stdout",
     "output_type": "stream",
     "text": [
      "Solution Path bfs: [(0, 0), (0, 0), (1, 0), (2, 0), (3, 0), (4, 0), (5, 0), (5, 1), (5, 2), (6, 2), (7, 2), (7, 3), (7, 4), (8, 4), (8, 5), (8, 6), (8, 7), (9, 7), (9, 8), (9, 9)]\n",
      "Solution path A star: [(0, 0), (0, 0), (1, 0), (2, 0), (3, 0), (3, 1), (3, 2), (3, 3), (4, 3), (4, 4), (4, 5), (4, 6), (5, 6), (6, 6), (7, 6), (8, 6), (8, 7), (9, 7), (9, 8), (9, 9)]\n"
     ]
    },
    {
     "data": {
      "image/png": "[encoded data removed]",
      "text/plain": [
       "<Figure size 640x480 with 1 Axes>"
      ]
     },
     "metadata": {},
     "output_type": "display_data"
    },
    {
     "data": {
      "image/png": "[encoded data removed]",
      "text/plain": [
       "<Figure size 640x480 with 1 Axes>"
      ]
     },
     "metadata": {},
     "output_type": "display_data"
    }
   ],
   "source": [
    "# Define the grid, start position, and goal position\n",
    "def generate_random_grid(size, obstacle_probability):\n",
    "    return np.random.choice([0, 1], size=(size, size), p=[1-obstacle_probability, obstacle_probability])\n",
    "grid_size = 10\n",
    "obstacle_probability = 0.2 \n",
    "grid = generate_random_grid(grid_size, obstacle_probability)\n",
    "start = (0, 0)\n",
    "goal = (grid_size - 1, grid_size - 1)\n",
    "\n",
    "grid[start] = 0\n",
    "grid[goal] = 0\n",
    "# Create the environment and agent\n",
    "environment = Environment(grid, start, goal)\n",
    "agent = Agent(environment)\n",
    "\n",
    "# Solve the problem with BFS\n",
    "solution_path = agent.uniform_cost_search()\n",
    "solution_path_1 = agent.a_star_search()\n",
    "\n",
    "print(\"Solution Path bfs:\", solution_path)\n",
    "print(\"Solution path A star:\", solution_path_1)\n",
    "\n",
    "# Visualize the solution\n",
    "visualize_grid_and_path(grid, solution_path)\n",
    "visualize_grid_and_path(grid, solution_path_1)"
   ]
  }
 ],
 "metadata": {
  "kernelspec": {
   "display_name": "base",
   "language": "python",
   "name": "python3"
  },
  "language_info": {
   "codemirror_mode": {
    "name": "ipython",
    "version": 3
   },
   "file_extension": ".py",
   "mimetype": "text/x-python",
   "name": "python",
   "nbconvert_exporter": "python",
   "pygments_lexer": "ipython3",
   "version": "3.11.4"
  }
 },
 "nbformat": 4,
 "nbformat_minor": 2
}
